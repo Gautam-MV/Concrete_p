{
 "cells": [
  {
   "cell_type": "code",
   "execution_count": null,
   "id": "9cade68c",
   "metadata": {},
   "outputs": [],
   "source": [
    "import pandas as pd\n",
    "import numpy as np\n",
    "import os\n",
    "from Python_Files import preprocessing\n",
    "from Python_Files import training_clustering as clustering\n",
    "from Python_Files import training_tuner as tuner\n",
    "from Python_Files import file_methods\n",
    "import pickle\n",
    "from sklearn import metrics\n",
    "from sklearn.model_selection import train_test_split"
   ]
  },
  {
   "cell_type": "code",
   "execution_count": null,
   "id": "1a8d4ee8",
   "metadata": {},
   "outputs": [],
   "source": [
    "current_working_directory = os.getcwd().replace(\"\\\\\",\"//\")"
   ]
  },
  {
   "cell_type": "code",
   "execution_count": null,
   "id": "c43233f6",
   "metadata": {},
   "outputs": [],
   "source": [
    "data = pd.read_csv(current_working_directory+'//Training_Raw_files_validated//Good_Raw//cement_strength_08012020_120021.csv')"
   ]
  },
  {
   "cell_type": "code",
   "execution_count": null,
   "id": "65234910",
   "metadata": {},
   "outputs": [],
   "source": [
    "preprocessor=preprocessing.Preprocessor()\n",
    "is_null_present,cols_with_missing_values=preprocessor.is_null_present(data)\n",
    "if(is_null_present):\n",
    "    data=preprocessor.impute_missing_values(data) # missing value imputation\n",
    "X, Y = preprocessor.separate_label_feature(data, label_column_name='Concrete_compressive _strength')\n",
    "X = preprocessor.logTransformation(X)\n",
    "kmeans=clustering.KMeansClustering() # object initialization.\n",
    "number_of_clusters=kmeans.elbow_plot(X)  #  using the elbow plot to find the number of optimum clusters\n",
    "\n",
    "# Divide the data into clusters\n",
    "X=kmeans.create_clusters(X,number_of_clusters)\n",
    "\n",
    "#create a new column in the dataset consisting of the corresponding cluster assignments.\n",
    "X['Labels']=Y"
   ]
  },
  {
   "cell_type": "code",
   "execution_count": null,
   "id": "8086f7f6",
   "metadata": {},
   "outputs": [],
   "source": []
  },
  {
   "cell_type": "code",
   "execution_count": null,
   "id": "659815c4",
   "metadata": {
    "scrolled": true
   },
   "outputs": [],
   "source": [
    "model_name = \"XGBoostRegressor2\"\n",
    "cluster_number = 2\n",
    "\n",
    "cluster_0_featues = X[X['Cluster']==cluster_number].reset_index(drop=True)\n",
    "cluster_0_labels = X[X['Cluster']==cluster_number]['Labels'].reset_index(drop=True)\n",
    "X_train, X_test, y_train, y_test = train_test_split(cluster_0_featues.drop(['Cluster','Labels'],axis=1), cluster_0_labels, test_size=1 / 3, random_state=36)\n",
    "\n",
    "X_train_scaled = preprocessor.standardScalingData(X_train.reset_index(drop=True))\n",
    "X_test_scaled = preprocessor.standardScalingData(X_test.reset_index(drop=True))\n",
    "\n",
    "model_path = current_working_directory+f\"//models//{model_name}//{model_name}.sav\"\n",
    "loaded_model = pickle.load(open(model_path, 'rb'))"
   ]
  },
  {
   "cell_type": "code",
   "execution_count": null,
   "id": "c34c0470",
   "metadata": {},
   "outputs": [],
   "source": [
    "loaded_model"
   ]
  },
  {
   "cell_type": "code",
   "execution_count": null,
   "id": "4b9c8787",
   "metadata": {
    "scrolled": true
   },
   "outputs": [],
   "source": [
    "loaded_model.score(X_train_scaled, y_train)"
   ]
  },
  {
   "cell_type": "code",
   "execution_count": null,
   "id": "64a1d470",
   "metadata": {},
   "outputs": [],
   "source": [
    "y_pred = loaded_model.predict(X_test_scaled)\n",
    "\n",
    "metrics.r2_score(y_test, y_pred)"
   ]
  },
  {
   "cell_type": "code",
   "execution_count": null,
   "id": "72704130",
   "metadata": {},
   "outputs": [],
   "source": []
  },
  {
   "cell_type": "code",
   "execution_count": null,
   "id": "4eb53013",
   "metadata": {},
   "outputs": [],
   "source": []
  },
  {
   "cell_type": "code",
   "execution_count": null,
   "id": "88e14229",
   "metadata": {},
   "outputs": [],
   "source": []
  },
  {
   "cell_type": "code",
   "execution_count": 59,
   "id": "06ff6697",
   "metadata": {},
   "outputs": [],
   "source": [
    "import pandas as pd\n",
    "from Python_Files import file_methods\n",
    "from Python_Files import preprocessing\n",
    "from Python_Files.prediction_rawValidation import Prediction_Data_validation"
   ]
  },
  {
   "cell_type": "code",
   "execution_count": 81,
   "id": "f4a2861d",
   "metadata": {},
   "outputs": [],
   "source": [
    "df = pd.read_csv(r\"C:\\Users\\gautam.bharadwaj\\Desktop\\ML\\Concrete_Project\\Concrete_proj\\Prediction_Raw_Files_Validated\\Good_Raw\\cement_strength_08012020_120021.csv\")"
   ]
  },
  {
   "cell_type": "code",
   "execution_count": 82,
   "id": "fe9c20a2",
   "metadata": {},
   "outputs": [],
   "source": [
    "preprocessor=preprocessing.Preprocessor()\n",
    "df2 = preprocessor.logTransformation(df)"
   ]
  },
  {
   "cell_type": "code",
   "execution_count": 83,
   "id": "54016fb6",
   "metadata": {
    "collapsed": true
   },
   "outputs": [
    {
     "data": {
      "text/html": [
       "<div>\n",
       "<style scoped>\n",
       "    .dataframe tbody tr th:only-of-type {\n",
       "        vertical-align: middle;\n",
       "    }\n",
       "\n",
       "    .dataframe tbody tr th {\n",
       "        vertical-align: top;\n",
       "    }\n",
       "\n",
       "    .dataframe thead th {\n",
       "        text-align: right;\n",
       "    }\n",
       "</style>\n",
       "<table border=\"1\" class=\"dataframe\">\n",
       "  <thead>\n",
       "    <tr style=\"text-align: right;\">\n",
       "      <th></th>\n",
       "      <th>Cement _component_1</th>\n",
       "      <th>Blast Furnace Slag _component_2</th>\n",
       "      <th>Fly Ash _component_3</th>\n",
       "      <th>Water_component_4</th>\n",
       "      <th>Superplasticizer_component_5</th>\n",
       "      <th>Coarse Aggregate_component_6</th>\n",
       "      <th>Fine Aggregate_component_7</th>\n",
       "      <th>Age_day</th>\n",
       "    </tr>\n",
       "  </thead>\n",
       "  <tbody>\n",
       "    <tr>\n",
       "      <th>0</th>\n",
       "      <td>6.293419</td>\n",
       "      <td>0.000000</td>\n",
       "      <td>0.000000</td>\n",
       "      <td>5.093750</td>\n",
       "      <td>1.252763</td>\n",
       "      <td>6.947937</td>\n",
       "      <td>6.517671</td>\n",
       "      <td>3.367296</td>\n",
       "    </tr>\n",
       "    <tr>\n",
       "      <th>1</th>\n",
       "      <td>6.293419</td>\n",
       "      <td>0.000000</td>\n",
       "      <td>0.000000</td>\n",
       "      <td>5.093750</td>\n",
       "      <td>1.252763</td>\n",
       "      <td>6.962243</td>\n",
       "      <td>6.517671</td>\n",
       "      <td>3.367296</td>\n",
       "    </tr>\n",
       "    <tr>\n",
       "      <th>2</th>\n",
       "      <td>5.809643</td>\n",
       "      <td>4.966335</td>\n",
       "      <td>0.000000</td>\n",
       "      <td>5.433722</td>\n",
       "      <td>0.000000</td>\n",
       "      <td>6.838405</td>\n",
       "      <td>6.388561</td>\n",
       "      <td>5.602119</td>\n",
       "    </tr>\n",
       "    <tr>\n",
       "      <th>3</th>\n",
       "      <td>5.809643</td>\n",
       "      <td>4.966335</td>\n",
       "      <td>0.000000</td>\n",
       "      <td>5.433722</td>\n",
       "      <td>0.000000</td>\n",
       "      <td>6.838405</td>\n",
       "      <td>6.388561</td>\n",
       "      <td>5.902633</td>\n",
       "    </tr>\n",
       "    <tr>\n",
       "      <th>4</th>\n",
       "      <td>5.296315</td>\n",
       "      <td>4.893352</td>\n",
       "      <td>0.000000</td>\n",
       "      <td>5.262690</td>\n",
       "      <td>0.000000</td>\n",
       "      <td>6.886940</td>\n",
       "      <td>6.717200</td>\n",
       "      <td>5.888878</td>\n",
       "    </tr>\n",
       "    <tr>\n",
       "      <th>...</th>\n",
       "      <td>...</td>\n",
       "      <td>...</td>\n",
       "      <td>...</td>\n",
       "      <td>...</td>\n",
       "      <td>...</td>\n",
       "      <td>...</td>\n",
       "      <td>...</td>\n",
       "      <td>...</td>\n",
       "    </tr>\n",
       "    <tr>\n",
       "      <th>279</th>\n",
       "      <td>5.531015</td>\n",
       "      <td>0.000000</td>\n",
       "      <td>4.781641</td>\n",
       "      <td>5.244389</td>\n",
       "      <td>2.001480</td>\n",
       "      <td>6.936731</td>\n",
       "      <td>6.631606</td>\n",
       "      <td>1.386294</td>\n",
       "    </tr>\n",
       "    <tr>\n",
       "      <th>280</th>\n",
       "      <td>5.531015</td>\n",
       "      <td>0.000000</td>\n",
       "      <td>4.781641</td>\n",
       "      <td>5.244389</td>\n",
       "      <td>2.001480</td>\n",
       "      <td>6.936731</td>\n",
       "      <td>6.631606</td>\n",
       "      <td>2.708050</td>\n",
       "    </tr>\n",
       "    <tr>\n",
       "      <th>281</th>\n",
       "      <td>5.531015</td>\n",
       "      <td>0.000000</td>\n",
       "      <td>4.781641</td>\n",
       "      <td>5.244389</td>\n",
       "      <td>2.001480</td>\n",
       "      <td>6.936731</td>\n",
       "      <td>6.631606</td>\n",
       "      <td>3.367296</td>\n",
       "    </tr>\n",
       "    <tr>\n",
       "      <th>282</th>\n",
       "      <td>5.531015</td>\n",
       "      <td>0.000000</td>\n",
       "      <td>4.781641</td>\n",
       "      <td>5.244389</td>\n",
       "      <td>2.001480</td>\n",
       "      <td>6.936731</td>\n",
       "      <td>6.631606</td>\n",
       "      <td>4.043051</td>\n",
       "    </tr>\n",
       "    <tr>\n",
       "      <th>283</th>\n",
       "      <td>5.531015</td>\n",
       "      <td>0.000000</td>\n",
       "      <td>4.781641</td>\n",
       "      <td>5.244389</td>\n",
       "      <td>2.001480</td>\n",
       "      <td>6.936731</td>\n",
       "      <td>6.631606</td>\n",
       "      <td>4.615121</td>\n",
       "    </tr>\n",
       "  </tbody>\n",
       "</table>\n",
       "<p>284 rows × 8 columns</p>\n",
       "</div>"
      ],
      "text/plain": [
       "     Cement _component_1  Blast Furnace Slag _component_2  \\\n",
       "0               6.293419                         0.000000   \n",
       "1               6.293419                         0.000000   \n",
       "2               5.809643                         4.966335   \n",
       "3               5.809643                         4.966335   \n",
       "4               5.296315                         4.893352   \n",
       "..                   ...                              ...   \n",
       "279             5.531015                         0.000000   \n",
       "280             5.531015                         0.000000   \n",
       "281             5.531015                         0.000000   \n",
       "282             5.531015                         0.000000   \n",
       "283             5.531015                         0.000000   \n",
       "\n",
       "     Fly Ash _component_3  Water_component_4  Superplasticizer_component_5  \\\n",
       "0                0.000000           5.093750                      1.252763   \n",
       "1                0.000000           5.093750                      1.252763   \n",
       "2                0.000000           5.433722                      0.000000   \n",
       "3                0.000000           5.433722                      0.000000   \n",
       "4                0.000000           5.262690                      0.000000   \n",
       "..                    ...                ...                           ...   \n",
       "279              4.781641           5.244389                      2.001480   \n",
       "280              4.781641           5.244389                      2.001480   \n",
       "281              4.781641           5.244389                      2.001480   \n",
       "282              4.781641           5.244389                      2.001480   \n",
       "283              4.781641           5.244389                      2.001480   \n",
       "\n",
       "     Coarse Aggregate_component_6  Fine Aggregate_component_7   Age_day  \n",
       "0                        6.947937                    6.517671  3.367296  \n",
       "1                        6.962243                    6.517671  3.367296  \n",
       "2                        6.838405                    6.388561  5.602119  \n",
       "3                        6.838405                    6.388561  5.902633  \n",
       "4                        6.886940                    6.717200  5.888878  \n",
       "..                            ...                         ...       ...  \n",
       "279                      6.936731                    6.631606  1.386294  \n",
       "280                      6.936731                    6.631606  2.708050  \n",
       "281                      6.936731                    6.631606  3.367296  \n",
       "282                      6.936731                    6.631606  4.043051  \n",
       "283                      6.936731                    6.631606  4.615121  \n",
       "\n",
       "[284 rows x 8 columns]"
      ]
     },
     "execution_count": 83,
     "metadata": {},
     "output_type": "execute_result"
    }
   ],
   "source": [
    "df2"
   ]
  },
  {
   "cell_type": "code",
   "execution_count": 41,
   "id": "f26c6d6b",
   "metadata": {},
   "outputs": [
    {
     "name": "stdout",
     "output_type": "stream",
     "text": [
      "[00:59:46] WARNING: C:/Jenkins/workspace/xgboost-win64_release_0.90/src/objective/regression_obj.cu:152: reg:linear is now deprecated in favor of reg:squarederror.\n"
     ]
    }
   ],
   "source": [
    "preprocessor=preprocessing.Preprocessor()\n",
    "df2 = preprocessor.logTransformation(df)\n",
    "data_scaled = pd.DataFrame(preprocessor.standardScalingData(df2),columns=df2.columns)\n",
    "file_loader=file_methods.File_Operation()\n",
    "kmeans=file_loader.load_model('KMeans')\n",
    "clusters=kmeans.predict(data_scaled)#drops the first column for cluster prediction\n",
    "data_scaled['clusters']=clusters\n",
    "clusters=data_scaled['clusters'].unique()\n",
    "result=[]\n",
    "for i in clusters:\n",
    "    cluster_data= data_scaled[data_scaled['clusters']==i]\n",
    "    cluster_data = cluster_data.drop(['clusters'],axis=1)\n",
    "    model_name = file_loader.find_correct_model_file(i)\n",
    "    model = file_loader.load_model(model_name)\n",
    "    for val in (model.predict(cluster_data.values)):\n",
    "        result.append(val)\n",
    "result = pd.DataFrame(result,columns=['Predictions'])"
   ]
  },
  {
   "cell_type": "code",
   "execution_count": 49,
   "id": "c33b8770",
   "metadata": {
    "scrolled": true
   },
   "outputs": [
    {
     "data": {
      "text/html": [
       "<div>\n",
       "<style scoped>\n",
       "    .dataframe tbody tr th:only-of-type {\n",
       "        vertical-align: middle;\n",
       "    }\n",
       "\n",
       "    .dataframe tbody tr th {\n",
       "        vertical-align: top;\n",
       "    }\n",
       "\n",
       "    .dataframe thead th {\n",
       "        text-align: right;\n",
       "    }\n",
       "</style>\n",
       "<table border=\"1\" class=\"dataframe\">\n",
       "  <thead>\n",
       "    <tr style=\"text-align: right;\">\n",
       "      <th></th>\n",
       "      <th>Cement _component_1</th>\n",
       "      <th>Blast Furnace Slag _component_2</th>\n",
       "      <th>Fly Ash _component_3</th>\n",
       "      <th>Water_component_4</th>\n",
       "      <th>Superplasticizer_component_5</th>\n",
       "      <th>Coarse Aggregate_component_6</th>\n",
       "      <th>Fine Aggregate_component_7</th>\n",
       "      <th>Age_day</th>\n",
       "    </tr>\n",
       "  </thead>\n",
       "  <tbody>\n",
       "    <tr>\n",
       "      <th>0</th>\n",
       "      <td>6.293419</td>\n",
       "      <td>0.0</td>\n",
       "      <td>0.0</td>\n",
       "      <td>5.09375</td>\n",
       "      <td>1.252763</td>\n",
       "      <td>6.947937</td>\n",
       "      <td>6.517671</td>\n",
       "      <td>3.367296</td>\n",
       "    </tr>\n",
       "  </tbody>\n",
       "</table>\n",
       "</div>"
      ],
      "text/plain": [
       "   Cement _component_1  Blast Furnace Slag _component_2  Fly Ash _component_3  \\\n",
       "0             6.293419                              0.0                   0.0   \n",
       "\n",
       "   Water_component_4  Superplasticizer_component_5  \\\n",
       "0            5.09375                      1.252763   \n",
       "\n",
       "   Coarse Aggregate_component_6  Fine Aggregate_component_7   Age_day  \n",
       "0                      6.947937                    6.517671  3.367296  "
      ]
     },
     "execution_count": 49,
     "metadata": {},
     "output_type": "execute_result"
    }
   ],
   "source": [
    "df.loc[0:0]"
   ]
  },
  {
   "cell_type": "code",
   "execution_count": 4,
   "id": "bc8b5c1f",
   "metadata": {},
   "outputs": [
    {
     "data": {
      "text/html": [
       "<div>\n",
       "<style scoped>\n",
       "    .dataframe tbody tr th:only-of-type {\n",
       "        vertical-align: middle;\n",
       "    }\n",
       "\n",
       "    .dataframe tbody tr th {\n",
       "        vertical-align: top;\n",
       "    }\n",
       "\n",
       "    .dataframe thead th {\n",
       "        text-align: right;\n",
       "    }\n",
       "</style>\n",
       "<table border=\"1\" class=\"dataframe\">\n",
       "  <thead>\n",
       "    <tr style=\"text-align: right;\">\n",
       "      <th></th>\n",
       "      <th>Predictions</th>\n",
       "    </tr>\n",
       "  </thead>\n",
       "  <tbody>\n",
       "    <tr>\n",
       "      <th>0</th>\n",
       "      <td>56.477097</td>\n",
       "    </tr>\n",
       "    <tr>\n",
       "      <th>1</th>\n",
       "      <td>56.599598</td>\n",
       "    </tr>\n",
       "    <tr>\n",
       "      <th>2</th>\n",
       "      <td>45.593468</td>\n",
       "    </tr>\n",
       "    <tr>\n",
       "      <th>3</th>\n",
       "      <td>48.387302</td>\n",
       "    </tr>\n",
       "    <tr>\n",
       "      <th>4</th>\n",
       "      <td>30.684753</td>\n",
       "    </tr>\n",
       "    <tr>\n",
       "      <th>...</th>\n",
       "      <td>...</td>\n",
       "    </tr>\n",
       "    <tr>\n",
       "      <th>279</th>\n",
       "      <td>14.093570</td>\n",
       "    </tr>\n",
       "    <tr>\n",
       "      <th>280</th>\n",
       "      <td>21.298403</td>\n",
       "    </tr>\n",
       "    <tr>\n",
       "      <th>281</th>\n",
       "      <td>25.432709</td>\n",
       "    </tr>\n",
       "    <tr>\n",
       "      <th>282</th>\n",
       "      <td>26.146366</td>\n",
       "    </tr>\n",
       "    <tr>\n",
       "      <th>283</th>\n",
       "      <td>30.281313</td>\n",
       "    </tr>\n",
       "  </tbody>\n",
       "</table>\n",
       "<p>284 rows × 1 columns</p>\n",
       "</div>"
      ],
      "text/plain": [
       "     Predictions\n",
       "0      56.477097\n",
       "1      56.599598\n",
       "2      45.593468\n",
       "3      48.387302\n",
       "4      30.684753\n",
       "..           ...\n",
       "279    14.093570\n",
       "280    21.298403\n",
       "281    25.432709\n",
       "282    26.146366\n",
       "283    30.281313\n",
       "\n",
       "[284 rows x 1 columns]"
      ]
     },
     "execution_count": 4,
     "metadata": {},
     "output_type": "execute_result"
    }
   ],
   "source": [
    "result"
   ]
  },
  {
   "cell_type": "code",
   "execution_count": null,
   "id": "accd7558",
   "metadata": {},
   "outputs": [],
   "source": []
  },
  {
   "cell_type": "code",
   "execution_count": null,
   "id": "6fcb7183",
   "metadata": {},
   "outputs": [],
   "source": []
  },
  {
   "cell_type": "code",
   "execution_count": null,
   "id": "73f00ba1",
   "metadata": {},
   "outputs": [],
   "source": []
  },
  {
   "cell_type": "code",
   "execution_count": null,
   "id": "5bb6bd0d",
   "metadata": {},
   "outputs": [],
   "source": []
  },
  {
   "cell_type": "code",
   "execution_count": null,
   "id": "6905b0f5",
   "metadata": {},
   "outputs": [],
   "source": []
  },
  {
   "cell_type": "code",
   "execution_count": null,
   "id": "5408867d",
   "metadata": {},
   "outputs": [],
   "source": []
  },
  {
   "cell_type": "code",
   "execution_count": null,
   "id": "ca319750",
   "metadata": {},
   "outputs": [],
   "source": []
  },
  {
   "cell_type": "code",
   "execution_count": null,
   "id": "d169553e",
   "metadata": {},
   "outputs": [],
   "source": []
  }
 ],
 "metadata": {
  "kernelspec": {
   "display_name": "Python 3",
   "language": "python",
   "name": "python3"
  },
  "language_info": {
   "codemirror_mode": {
    "name": "ipython",
    "version": 3
   },
   "file_extension": ".py",
   "mimetype": "text/x-python",
   "name": "python",
   "nbconvert_exporter": "python",
   "pygments_lexer": "ipython3",
   "version": "3.6.10"
  }
 },
 "nbformat": 4,
 "nbformat_minor": 5
}
